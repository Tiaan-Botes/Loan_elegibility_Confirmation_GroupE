{
 "cells": [
  {
   "cell_type": "markdown",
   "metadata": {},
   "source": [
    "Loan Eligibility Automation Project Plan"
   ]
  },
  {
   "cell_type": "markdown",
   "metadata": {},
   "source": [
    "Problem statement"
   ]
  },
  {
   "cell_type": "markdown",
   "metadata": {},
   "source": [
    "Hypothesis:\n",
    "1.\tEducation level and monthly income positively impact the loan eligibility.\n",
    "2.\tA higher number of dependents may negatively influence loan eligibility due to increased financial responsibilities.\n",
    "3.\tApplicants with a better credit history are more likely to be eligible for higher loan amounts.\n",
    "4.\tThere is a correlation between loan amount and eligibility, with higher loan amounts being more difficult to obtain.\n",
    "5.\tGender and marital status do not have a significant impact on loan eligibility (to ensure fairness and avoid bias).\n",
    "These hypotheses will be tested during the exploratory data analysis and model building phases of the project.\n",
    "\n"
   ]
  }
 ],
 "metadata": {
  "language_info": {
   "name": "python"
  }
 },
 "nbformat": 4,
 "nbformat_minor": 2
}
